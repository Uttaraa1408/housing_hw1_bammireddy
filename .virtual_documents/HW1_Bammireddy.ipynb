# creating output folder to store generated reports

import os

os.makedirs("output", exist_ok = TRUE)


# creating output folder to store generated reports

import os

os.makedirs("output", exist_ok = TRUE)
